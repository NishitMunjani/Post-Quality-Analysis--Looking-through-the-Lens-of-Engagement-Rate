{
 "cells": [
  {
   "cell_type": "code",
   "execution_count": 2,
   "metadata": {},
   "outputs": [],
   "source": [
    "import warnings\n",
    "warnings.filterwarnings('ignore')\n",
    "import pandas as pd\n",
    "import numpy as np"
   ]
  },
  {
   "cell_type": "code",
   "execution_count": null,
   "metadata": {},
   "outputs": [],
   "source": [
    "categories = [\n",
    "    'Automobile',\n",
    "    'Beverages',\n",
    "    'Clothing',\n",
    "    'Electronics',\n",
    "    'Entertainment',\n",
    "    'Food',\n",
    "    'Jewellery',\n",
    "    'Makeup',\n",
    "    'Non-profit',\n",
    "    'Shoes'\n",
    "]\n",
    "\n",
    "quadrants = [\n",
    "    'HF-HE',\n",
    "    'HF-LE',\n",
    "    'LF-HE',\n",
    "    'LF-LE'\n",
    "]\n",
    "\n",
    "all_data_df = pd.DataFrame()\n",
    "\n",
    "for category in categories:\n",
    "    for quad in quadrants:\n",
    "        path = f\"D://Study//Project//Major project//{category}//{category}_{quad}_captions.xlsx\"\n",
    "        df = pd.read_excel(path)\n",
    "        \n",
    "        if 'Urls' in df.columns and 'Captions' in df.columns:\n",
    "            # Assign category and quadrant\n",
    "            df['Category'] = category\n",
    "            df['Quadrant'] = quad\n",
    "            \n",
    "            # Select relevant columns\n",
    "            df = df[['Category', 'Quadrant', 'Urls', 'Captions']]\n",
    "            \n",
    "            # Append the DataFrame to the main DataFrame\n",
    "            all_data_df = pd.concat([all_data_df, df], ignore_index=True)\n",
    "        else:\n",
    "            print(f\"Columns 'Urls' and 'Captions' not found in {path}\")\n",
    "\n",
    "# Print the combined DataFrame\n",
    "all_data_df.head()"
   ]
  },
  {
   "cell_type": "code",
   "execution_count": null,
   "metadata": {},
   "outputs": [],
   "source": [
    "all_data_df.to_excel('All_quadrants_caption_combined.xlsx', index=False)"
   ]
  },
  {
   "cell_type": "code",
   "execution_count": 13,
   "metadata": {},
   "outputs": [
    {
     "data": {
      "text/html": [
       "<div>\n",
       "<style scoped>\n",
       "    .dataframe tbody tr th:only-of-type {\n",
       "        vertical-align: middle;\n",
       "    }\n",
       "\n",
       "    .dataframe tbody tr th {\n",
       "        vertical-align: top;\n",
       "    }\n",
       "\n",
       "    .dataframe thead th {\n",
       "        text-align: right;\n",
       "    }\n",
       "</style>\n",
       "<table border=\"1\" class=\"dataframe\">\n",
       "  <thead>\n",
       "    <tr style=\"text-align: right;\">\n",
       "      <th></th>\n",
       "      <th>Category</th>\n",
       "      <th>Micro-Influencers</th>\n",
       "    </tr>\n",
       "  </thead>\n",
       "  <tbody>\n",
       "    <tr>\n",
       "      <th>0</th>\n",
       "      <td>Automobile</td>\n",
       "      <td>_khantaha_</td>\n",
       "    </tr>\n",
       "    <tr>\n",
       "      <th>1</th>\n",
       "      <td>Automobile</td>\n",
       "      <td>theritzcarltonpune</td>\n",
       "    </tr>\n",
       "    <tr>\n",
       "      <th>2</th>\n",
       "      <td>Automobile</td>\n",
       "      <td>honda_team_asia</td>\n",
       "    </tr>\n",
       "    <tr>\n",
       "      <th>3</th>\n",
       "      <td>Automobile</td>\n",
       "      <td>prithwi</td>\n",
       "    </tr>\n",
       "    <tr>\n",
       "      <th>4</th>\n",
       "      <td>Automobile</td>\n",
       "      <td>ritambhatnagar</td>\n",
       "    </tr>\n",
       "  </tbody>\n",
       "</table>\n",
       "</div>"
      ],
      "text/plain": [
       "     Category   Micro-Influencers\n",
       "0  Automobile          _khantaha_\n",
       "1  Automobile  theritzcarltonpune\n",
       "2  Automobile     honda_team_asia\n",
       "3  Automobile             prithwi\n",
       "4  Automobile      ritambhatnagar"
      ]
     },
     "execution_count": 13,
     "metadata": {},
     "output_type": "execute_result"
    }
   ],
   "source": [
    "categories = [\n",
    "    'Automobile',\n",
    "    'Beverages',\n",
    "    'Clothing',\n",
    "    'Electronics',\n",
    "    'Entertainment',\n",
    "    'Food',\n",
    "    'Jewellery',\n",
    "    'Makeup',\n",
    "    'Non-profit',\n",
    "    'Shoes'\n",
    "]\n",
    "\n",
    "all_data_df = pd.DataFrame()\n",
    "\n",
    "for category in categories:\n",
    "    path = f\"D://Study//Project//Minor Project//Categories//{category}//MicroInf_{category}.xlsx\"\n",
    "    df = pd.read_excel(path)\n",
    "    \n",
    "    if 'Micro-Influencers' in df.columns:\n",
    "        # Assign category and quadrant\n",
    "        df['Category'] = category\n",
    "        \n",
    "        # Select relevant columns\n",
    "        df = df[['Category', 'Micro-Influencers']]\n",
    "        \n",
    "        # Append the DataFrame to the main DataFrame\n",
    "        all_data_df = pd.concat([all_data_df, df], ignore_index=True)\n",
    "    else:\n",
    "        print(f\"Columns 'Micro-Influencers' not found in {path}\")\n",
    "\n",
    "# Print the combined DataFrame\n",
    "all_data_df.head()"
   ]
  },
  {
   "cell_type": "code",
   "execution_count": 17,
   "metadata": {},
   "outputs": [
    {
     "data": {
      "text/plain": [
       "(15425, 2)"
      ]
     },
     "execution_count": 17,
     "metadata": {},
     "output_type": "execute_result"
    }
   ],
   "source": [
    "all_data_df.shape"
   ]
  },
  {
   "cell_type": "code",
   "execution_count": 16,
   "metadata": {},
   "outputs": [],
   "source": [
    "all_data_df = all_data_df.drop_duplicates(subset=['Micro-Influencers'])"
   ]
  },
  {
   "cell_type": "code",
   "execution_count": 18,
   "metadata": {},
   "outputs": [],
   "source": [
    "all_data_df.to_excel('All_microinf_combined.xlsx', index=False)"
   ]
  },
  {
   "cell_type": "code",
   "execution_count": null,
   "metadata": {},
   "outputs": [],
   "source": []
  }
 ],
 "metadata": {
  "kernelspec": {
   "display_name": "Python 3",
   "language": "python",
   "name": "python3"
  },
  "language_info": {
   "codemirror_mode": {
    "name": "ipython",
    "version": 3
   },
   "file_extension": ".py",
   "mimetype": "text/x-python",
   "name": "python",
   "nbconvert_exporter": "python",
   "pygments_lexer": "ipython3",
   "version": "3.12.1"
  }
 },
 "nbformat": 4,
 "nbformat_minor": 2
}
