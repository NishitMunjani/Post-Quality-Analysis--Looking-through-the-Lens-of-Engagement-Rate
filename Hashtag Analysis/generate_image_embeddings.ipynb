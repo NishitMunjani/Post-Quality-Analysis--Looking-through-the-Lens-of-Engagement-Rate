{
 "cells": [
  {
   "cell_type": "code",
   "execution_count": 1,
   "metadata": {},
   "outputs": [],
   "source": [
    "import warnings\n",
    "warnings.filterwarnings('ignore')\n",
    "from PIL import Image\n",
    "import os\n",
    "import torch\n",
    "from tqdm import tqdm\n",
    "import numpy as np\n",
    "import json\n",
    "import gc\n",
    "from torchvision.models import DenseNet121_Weights\n",
    "from torchvision import transforms\n",
    "from torchvision import models\n",
    "from torchvision.datasets import ImageFolder\n",
    "from torch.utils.data import DataLoader\n",
    "from diffusers.utils import load_image"
   ]
  },
  {
   "cell_type": "code",
   "execution_count": 26,
   "metadata": {},
   "outputs": [
    {
     "name": "stderr",
     "output_type": "stream",
     "text": [
      "100%|██████████| 271/271 [01:03<00:00,  4.29it/s]\n",
      "100%|██████████| 252/252 [00:57<00:00,  4.37it/s]\n"
     ]
    }
   ],
   "source": [
    "categories = [\n",
    "    # 'Automobile',\n",
    "    # 'Beverages',\n",
    "    # 'Clothing',\n",
    "    # 'Electronics',\n",
    "    # 'Entertainment',\n",
    "    # 'Food',\n",
    "    # 'Jewellery',\n",
    "    # 'Makeup',\n",
    "    # 'Non-profit',\n",
    "    'Shoes'\n",
    "]\n",
    "\n",
    "quadrant = [\n",
    "    'HF-HE',\n",
    "    'HF-LE',\n",
    "    # 'LF-HE',\n",
    "    # 'LF-LE'\n",
    "]\n",
    "\n",
    "for category in categories:\n",
    "    for quad in quadrant:\n",
    "        folder_path = f'D://Study//Project//Major project//Hashtag analysis//{category}//{quad}'\n",
    "\n",
    "        weights = DenseNet121_Weights.IMAGENET1K_V1\n",
    "        device = torch.device(\"cuda\" if torch.cuda.is_available() else \"cpu\")\n",
    "        model = models.densenet121(weights=weights).to(device)\n",
    "        model.eval()\n",
    "\n",
    "        preprocess = transforms.Compose([\n",
    "            transforms.Resize(256),\n",
    "            transforms.CenterCrop(224),\n",
    "            transforms.ToTensor(),\n",
    "            transforms.Normalize(\n",
    "                mean=[0.485, 0.456, 0.406],\n",
    "                std=[0.229, 0.224, 0.225]),\n",
    "        ])\n",
    "\n",
    "        output_dict = {}\n",
    "        for img in tqdm(os.listdir(folder_path)):\n",
    "            image_name = img\n",
    "            img = load_image(os.path.join(folder_path, img))\n",
    "            with torch.no_grad():\n",
    "                img = preprocess(img).unsqueeze(0).to(device)\n",
    "                output_dict[image_name] = model(img).detach().cpu().numpy().tolist()\n",
    "            del img \n",
    "            del image_name\n",
    "            gc.collect()\n",
    "        \n",
    "        with open(f'D:\\Study\\Project\\Major project\\Hashtag analysis\\{category}\\{quad}_image_embeddings.json', 'w') as json_file:\n",
    "            json.dump(output_dict, json_file, indent=4)"
   ]
  },
  {
   "cell_type": "code",
   "execution_count": 21,
   "metadata": {},
   "outputs": [],
   "source": [
    "with open('HF-HE_image_embeddings.json', 'w') as json_file:\n",
    "    json.dump(output_dict, json_file, indent=4)"
   ]
  },
  {
   "cell_type": "code",
   "execution_count": null,
   "metadata": {},
   "outputs": [],
   "source": []
  }
 ],
 "metadata": {
  "kernelspec": {
   "display_name": ".pytorch",
   "language": "python",
   "name": "python3"
  },
  "language_info": {
   "codemirror_mode": {
    "name": "ipython",
    "version": 3
   },
   "file_extension": ".py",
   "mimetype": "text/x-python",
   "name": "python",
   "nbconvert_exporter": "python",
   "pygments_lexer": "ipython3",
   "version": "3.12.1"
  }
 },
 "nbformat": 4,
 "nbformat_minor": 2
}
