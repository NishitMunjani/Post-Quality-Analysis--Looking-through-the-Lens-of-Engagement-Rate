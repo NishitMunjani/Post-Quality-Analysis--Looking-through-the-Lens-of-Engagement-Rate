{
 "cells": [
  {
   "cell_type": "code",
   "execution_count": 1,
   "metadata": {},
   "outputs": [],
   "source": [
    "import warnings\n",
    "warnings.filterwarnings('ignore')\n",
    "import pandas as pd"
   ]
  },
  {
   "cell_type": "code",
   "execution_count": 2,
   "metadata": {},
   "outputs": [
    {
     "name": "stdout",
     "output_type": "stream",
     "text": [
      "Average caption length HF-HE: 403.29241877256317\n"
     ]
    }
   ],
   "source": [
    "df = pd.read_excel(r\"D:\\Study\\Project\\Major project\\Jewellery_HF-HE_captions.xlsx\")\n",
    "\n",
    "# Calculate the length of each caption\n",
    "df['caption_length'] = df['Captions'].apply(len)\n",
    "\n",
    "# Compute the average caption length\n",
    "average_length = df['caption_length'].mean()\n",
    "\n",
    "print(\"Average caption length HF-HE:\", average_length)\n"
   ]
  },
  {
   "cell_type": "code",
   "execution_count": 3,
   "metadata": {},
   "outputs": [
    {
     "name": "stdout",
     "output_type": "stream",
     "text": [
      "Average caption length HF-LE: 451.37719298245617\n"
     ]
    }
   ],
   "source": [
    "df = pd.read_excel(r\"D:\\Study\\Project\\Major project\\Jewellery_HF-LE_captions.xlsx\")\n",
    "\n",
    "# Calculate the length of each caption\n",
    "df['caption_length'] = df['Captions'].apply(len)\n",
    "\n",
    "# Compute the average caption length\n",
    "average_length = df['caption_length'].mean()\n",
    "\n",
    "print(\"Average caption length HF-LE:\", average_length)"
   ]
  },
  {
   "cell_type": "code",
   "execution_count": 4,
   "metadata": {},
   "outputs": [
    {
     "name": "stdout",
     "output_type": "stream",
     "text": [
      "Average caption length LF-HE: 590.0124444444444\n"
     ]
    }
   ],
   "source": [
    "df = pd.read_excel(r\"D:\\Study\\Project\\Major project\\Jewellery_LF-HE_captions.xlsx\")\n",
    "\n",
    "# Calculate the length of each caption\n",
    "df['caption_length'] = df['Captions'].apply(len)\n",
    "\n",
    "# Compute the average caption length\n",
    "average_length = df['caption_length'].mean()\n",
    "\n",
    "print(\"Average caption length LF-HE:\", average_length)"
   ]
  },
  {
   "cell_type": "code",
   "execution_count": 5,
   "metadata": {},
   "outputs": [
    {
     "name": "stdout",
     "output_type": "stream",
     "text": [
      "Average caption length LF-LE: 415.84\n"
     ]
    }
   ],
   "source": [
    "df = pd.read_excel(r\"D:\\Study\\Project\\Major project\\Jewellery_LF-LE_captions.xlsx\")\n",
    "\n",
    "# Calculate the length of each caption\n",
    "df['caption_length'] = df['Captions'].apply(len)\n",
    "\n",
    "# Compute the average caption length\n",
    "average_length = df['caption_length'].mean()\n",
    "\n",
    "print(\"Average caption length LF-LE:\", average_length)"
   ]
  },
  {
   "cell_type": "code",
   "execution_count": 19,
   "metadata": {},
   "outputs": [
    {
     "name": "stdout",
     "output_type": "stream",
     "text": [
      "Average length of the first 20 shuffled captions HF-HE: 751.95\n"
     ]
    }
   ],
   "source": [
    "import pandas as pd\n",
    "\n",
    "df = pd.read_excel('D:\\Study\\Project\\Major project\\Makeup_HF-HE_captions.xlsx')\n",
    "\n",
    "df = df.sample(frac=1, random_state=1).reset_index(drop=True)\n",
    "\n",
    "first_50_captions = df['Captions'].head(20)\n",
    "\n",
    "first_50_captions_length = first_50_captions.apply(len)\n",
    "\n",
    "average_length_first_50 = first_50_captions_length.mean()\n",
    "\n",
    "print(\"Average length of the first 20 shuffled captions HF-HE:\", average_length_first_50)\n"
   ]
  },
  {
   "cell_type": "code",
   "execution_count": 20,
   "metadata": {},
   "outputs": [
    {
     "name": "stdout",
     "output_type": "stream",
     "text": [
      "Average length of the first 20 shuffled captions HF-LE: 563.0\n"
     ]
    }
   ],
   "source": [
    "import pandas as pd\n",
    "\n",
    "df = pd.read_excel('D:\\Study\\Project\\Major project\\Makeup_HF-LE_captions.xlsx')\n",
    "\n",
    "df = df.sample(frac=1, random_state=1).reset_index(drop=True)\n",
    "\n",
    "first_50_captions = df['Captions'].head(20)\n",
    "\n",
    "first_50_captions_length = first_50_captions.apply(len)\n",
    "\n",
    "average_length_first_50 = first_50_captions_length.mean()\n",
    "\n",
    "print(\"Average length of the first 20 shuffled captions HF-LE:\", average_length_first_50)\n"
   ]
  },
  {
   "cell_type": "code",
   "execution_count": 21,
   "metadata": {},
   "outputs": [
    {
     "name": "stdout",
     "output_type": "stream",
     "text": [
      "Average length of the first 20 shuffled captions LF-HE: 513.4\n"
     ]
    }
   ],
   "source": [
    "import pandas as pd\n",
    "\n",
    "df = pd.read_excel('D:\\Study\\Project\\Major project\\Makeup_LF-HE_captions.xlsx')\n",
    "\n",
    "df = df.sample(frac=1, random_state=1).reset_index(drop=True)\n",
    "\n",
    "first_50_captions = df['Captions'].head(20)\n",
    "\n",
    "first_50_captions_length = first_50_captions.apply(len)\n",
    "\n",
    "average_length_first_50 = first_50_captions_length.mean()\n",
    "\n",
    "print(\"Average length of the first 20 shuffled captions LF-HE:\", average_length_first_50)\n"
   ]
  },
  {
   "cell_type": "code",
   "execution_count": 22,
   "metadata": {},
   "outputs": [
    {
     "name": "stdout",
     "output_type": "stream",
     "text": [
      "Average length of the first 20 shuffled captions LF-LE: 677.9\n"
     ]
    }
   ],
   "source": [
    "import pandas as pd\n",
    "\n",
    "df = pd.read_excel('D:\\Study\\Project\\Major project\\Makeup_LF-LE_captions.xlsx')\n",
    "\n",
    "df = df.sample(frac=1, random_state=1).reset_index(drop=True)\n",
    "\n",
    "first_50_captions = df['Captions'].head(20)\n",
    "\n",
    "first_50_captions_length = first_50_captions.apply(len)\n",
    "\n",
    "average_length_first_50 = first_50_captions_length.mean()\n",
    "\n",
    "print(\"Average length of the first 20 shuffled captions LF-LE:\", average_length_first_50)\n"
   ]
  },
  {
   "cell_type": "code",
   "execution_count": null,
   "metadata": {},
   "outputs": [],
   "source": []
  }
 ],
 "metadata": {
  "kernelspec": {
   "display_name": "Python 3",
   "language": "python",
   "name": "python3"
  },
  "language_info": {
   "codemirror_mode": {
    "name": "ipython",
    "version": 3
   },
   "file_extension": ".py",
   "mimetype": "text/x-python",
   "name": "python",
   "nbconvert_exporter": "python",
   "pygments_lexer": "ipython3",
   "version": "3.12.1"
  }
 },
 "nbformat": 4,
 "nbformat_minor": 2
}
