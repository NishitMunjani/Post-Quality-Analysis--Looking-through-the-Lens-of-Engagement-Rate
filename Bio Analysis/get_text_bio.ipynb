{
 "cells": [
  {
   "cell_type": "code",
   "execution_count": 1,
   "metadata": {},
   "outputs": [],
   "source": [
    "import warnings\n",
    "warnings.filterwarnings('ignore')\n",
    "import pandas as pd\n",
    "import numpy as np"
   ]
  },
  {
   "cell_type": "code",
   "execution_count": 10,
   "metadata": {},
   "outputs": [],
   "source": [
    "import pandas as pd\n",
    "\n",
    "categories = [\n",
    "    'Automobile',\n",
    "    'Beverages',\n",
    "    'Clothing',\n",
    "    'Electronics',\n",
    "    'Entertainment',\n",
    "    'Food',\n",
    "    'Jewellery',\n",
    "    'Makeup',\n",
    "    'Non-profit',\n",
    "    'Shoes',\n",
    "]\n",
    "quadrant = [\n",
    "    'HF-HE',\n",
    "    'HF-LE',\n",
    "    'LF-HE',\n",
    "    'LF-LE',\n",
    "]\n",
    "\n",
    "# Load the bio DataFrame once outside the loop\n",
    "bio_df = pd.read_excel(r'D:\\Study\\Project\\Major project\\Bio analysis\\Influencer_bio_analysis_data.xlsx')\n",
    "\n",
    "for category in categories:\n",
    "    for quad in quadrant:\n",
    "        caption_folder_path = f'D://Study//Project//Major project//Bio analysis//{category}//{category}_{quad}_captions.xlsx'\n",
    "\n",
    "        # Load the captions DataFrame\n",
    "        df = pd.read_excel(caption_folder_path)\n",
    "\n",
    "        # Merge the captions with the bio DataFrame\n",
    "        merged_df = pd.merge(df, bio_df[['username', 'biography']], left_on='Influencers', right_on='username', how='left')\n",
    "\n",
    "        # Save the merged DataFrame to a new Excel file\n",
    "        merged_df.to_excel(f'D://Study//Project//Major project//Bio analysis//{category}//{category}_{quad}_biography.xlsx', index=False)\n"
   ]
  },
  {
   "cell_type": "code",
   "execution_count": null,
   "metadata": {},
   "outputs": [],
   "source": []
  }
 ],
 "metadata": {
  "kernelspec": {
   "display_name": "Python 3",
   "language": "python",
   "name": "python3"
  },
  "language_info": {
   "codemirror_mode": {
    "name": "ipython",
    "version": 3
   },
   "file_extension": ".py",
   "mimetype": "text/x-python",
   "name": "python",
   "nbconvert_exporter": "python",
   "pygments_lexer": "ipython3",
   "version": "3.12.1"
  }
 },
 "nbformat": 4,
 "nbformat_minor": 2
}
