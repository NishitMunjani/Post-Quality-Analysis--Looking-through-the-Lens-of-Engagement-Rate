{
 "cells": [
  {
   "cell_type": "code",
   "execution_count": 1,
   "metadata": {},
   "outputs": [],
   "source": [
    "import warnings\n",
    "warnings.filterwarnings('ignore')\n",
    "import torch\n",
    "from pathlib import Path\n",
    "from PIL import Image\n",
    "import pandas as pd\n",
    "import cv2\n",
    "import numpy as np"
   ]
  },
  {
   "cell_type": "code",
   "execution_count": 3,
   "metadata": {},
   "outputs": [
    {
     "name": "stderr",
     "output_type": "stream",
     "text": [
      "Using cache found in C:\\Users\\nishi/.cache\\torch\\hub\\ultralytics_yolov5_master\n",
      "YOLOv5  2024-7-9 Python-3.12.1 torch-2.2.1+cu118 CUDA:0 (NVIDIA GeForce GTX 1650, 4096MiB)\n",
      "\n",
      "Fusing layers... \n",
      "YOLOv5s summary: 213 layers, 7225885 parameters, 0 gradients, 16.4 GFLOPs\n",
      "Adding AutoShape... \n"
     ]
    },
    {
     "name": "stdout",
     "output_type": "stream",
     "text": [
      "Results saved to D:\\Study\\Project\\Major project\\Bio analysis\\output_four_quad_image\\detected_objects_with_area.xlsx\n",
      "Annotated images saved in D://Study//Project//Major project//Bio analysis//output_four_quad_image\n"
     ]
    }
   ],
   "source": [
    "# Load the YOLOv5 model\n",
    "model = torch.hub.load('ultralytics/yolov5', 'yolov5s')  # or 'yolov5m', 'yolov5l', 'yolov5x'\n",
    "\n",
    "# Define the folder containing the images\n",
    "image_folder = 'D://Study//Project//Major project//Bio analysis//four_quad_image'\n",
    "output_folder = 'D://Study//Project//Major project//Bio analysis//output_four_quad_image'\n",
    "\n",
    "# Ensure the output folder exists\n",
    "Path(output_folder).mkdir(parents=True, exist_ok=True)\n",
    "\n",
    "# Get a list of image files in the folder\n",
    "image_files = list(Path(image_folder).glob('.jpg')) + list(Path(image_folder).glob('.png'))\n",
    "\n",
    "# Initialize an empty list to store detection results\n",
    "results_list = []\n",
    "\n",
    "# Create a function to detect objects in an image and return the results\n",
    "def detect_objects(image_path):\n",
    "    # Load the image\n",
    "    img = Image.open(image_path)\n",
    "    \n",
    "    # Perform object detection\n",
    "    results = model(img)\n",
    "    \n",
    "    # Parse results\n",
    "    detected_objects = results.pandas().xyxy[0]\n",
    "    \n",
    "    return detected_objects, results\n",
    "\n",
    "# Iterate over each image file and detect objects\n",
    "for image_file in image_files:\n",
    "    print(f\"Processing {image_file.name}...\")\n",
    "    objects, results = detect_objects(image_file)\n",
    "    \n",
    "    # Append the results to the list with the image name\n",
    "    for index, obj in objects.iterrows():\n",
    "        width = obj['xmax'] - obj['xmin']\n",
    "        height = obj['ymax'] - obj['ymin']\n",
    "        area = width * height\n",
    "        results_list.append({\n",
    "            'image': image_file.name,\n",
    "            'xmin': obj['xmin'],\n",
    "            'ymin': obj['ymin'],\n",
    "            'xmax': obj['xmax'],\n",
    "            'ymax': obj['ymax'],\n",
    "            'confidence': obj['confidence'],\n",
    "            'class': obj['class'],\n",
    "            'name': obj['name'],\n",
    "            'area': area\n",
    "        })\n",
    "    \n",
    "    # Load the image using OpenCV\n",
    "    img_cv2 = cv2.imread(str(image_file))\n",
    "    \n",
    "    # Draw bounding boxes and labels on the image\n",
    "    for index, obj in objects.iterrows():\n",
    "        xmin, ymin, xmax, ymax = int(obj['xmin']), int(obj['ymin']), int(obj['xmax']), int(obj['ymax'])\n",
    "        label = f\"{obj['name']} {obj['confidence']:.2f}\"\n",
    "        cv2.rectangle(img_cv2, (xmin, ymin), (xmax, ymax), (0, 255, 0), 2)\n",
    "        cv2.putText(img_cv2, label, (xmin, ymin - 10), cv2.FONT_HERSHEY_SIMPLEX, 0.5, (0, 255, 0), 2)\n",
    "    \n",
    "    # Save the annotated image with the desired name\n",
    "    result_img_path = Path(output_folder) / f\"yolo_{image_file.name}\"\n",
    "    cv2.imwrite(str(result_img_path), img_cv2)\n",
    "\n",
    "# Create a DataFrame from the results list\n",
    "df = pd.DataFrame(results_list)\n",
    "\n",
    "# Save the DataFrame to an Excel file\n",
    "output_excel_file = Path(output_folder) / 'detected_objects_with_area.xlsx'\n",
    "df.to_excel(output_excel_file, index=False)\n",
    "\n",
    "print(f\"Results saved to {output_excel_file}\")\n",
    "print(f\"Annotated images saved in {output_folder}\")"
   ]
  },
  {
   "cell_type": "code",
   "execution_count": null,
   "metadata": {},
   "outputs": [],
   "source": []
  },
  {
   "cell_type": "code",
   "execution_count": null,
   "metadata": {},
   "outputs": [],
   "source": []
  }
 ],
 "metadata": {
  "kernelspec": {
   "display_name": "Python 3",
   "language": "python",
   "name": "python3"
  },
  "language_info": {
   "codemirror_mode": {
    "name": "ipython",
    "version": 3
   },
   "file_extension": ".py",
   "mimetype": "text/x-python",
   "name": "python",
   "nbconvert_exporter": "python",
   "pygments_lexer": "ipython3",
   "version": "3.12.1"
  }
 },
 "nbformat": 4,
 "nbformat_minor": 2
}
