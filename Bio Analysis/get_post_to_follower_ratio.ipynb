{
 "cells": [
  {
   "cell_type": "code",
   "execution_count": 1,
   "metadata": {},
   "outputs": [],
   "source": [
    "import warnings\n",
    "warnings.filterwarnings('ignore')\n",
    "import pandas as pd\n",
    "import numpy as np"
   ]
  },
  {
   "cell_type": "code",
   "execution_count": 2,
   "metadata": {},
   "outputs": [],
   "source": [
    "df = pd.read_json(r'D:\\Study\\Project\\Major project\\Bio analysis\\influencer_data.json')"
   ]
  },
  {
   "cell_type": "code",
   "execution_count": 3,
   "metadata": {},
   "outputs": [
    {
     "data": {
      "text/plain": [
       "Index(['inputUrl', 'id', 'username', 'url', 'fullName', 'biography',\n",
       "       'followersCount', 'followsCount', 'hasChannel', 'highlightReelCount',\n",
       "       'isBusinessAccount', 'joinedRecently', 'businessCategoryName',\n",
       "       'private', 'verified', 'profilePicUrl', 'profilePicUrlHD',\n",
       "       'igtvVideoCount', 'relatedProfiles', 'latestIgtvVideos', 'postsCount',\n",
       "       'latestPosts', 'externalUrl', 'externalUrlShimmed', 'error',\n",
       "       'isRestrictedProfile', 'restrictionReason'],\n",
       "      dtype='object')"
      ]
     },
     "execution_count": 3,
     "metadata": {},
     "output_type": "execute_result"
    }
   ],
   "source": [
    "df.columns"
   ]
  },
  {
   "cell_type": "code",
   "execution_count": 4,
   "metadata": {},
   "outputs": [],
   "source": [
    "df = df[['inputUrl', 'username', 'fullName', 'biography', 'followersCount', 'followsCount', 'businessCategoryName', 'postsCount']]"
   ]
  },
  {
   "cell_type": "code",
   "execution_count": 5,
   "metadata": {},
   "outputs": [
    {
     "data": {
      "text/html": [
       "<div>\n",
       "<style scoped>\n",
       "    .dataframe tbody tr th:only-of-type {\n",
       "        vertical-align: middle;\n",
       "    }\n",
       "\n",
       "    .dataframe tbody tr th {\n",
       "        vertical-align: top;\n",
       "    }\n",
       "\n",
       "    .dataframe thead th {\n",
       "        text-align: right;\n",
       "    }\n",
       "</style>\n",
       "<table border=\"1\" class=\"dataframe\">\n",
       "  <thead>\n",
       "    <tr style=\"text-align: right;\">\n",
       "      <th></th>\n",
       "      <th>inputUrl</th>\n",
       "      <th>username</th>\n",
       "      <th>fullName</th>\n",
       "      <th>biography</th>\n",
       "      <th>followersCount</th>\n",
       "      <th>followsCount</th>\n",
       "      <th>businessCategoryName</th>\n",
       "      <th>postsCount</th>\n",
       "    </tr>\n",
       "  </thead>\n",
       "  <tbody>\n",
       "    <tr>\n",
       "      <th>0</th>\n",
       "      <td>https://www.instagram.com/basicallymenz</td>\n",
       "      <td>basicallymenz</td>\n",
       "      <td>Sandeep Rai</td>\n",
       "      <td>•Lawyer •Lifestyle •Luxury •Fashion\\n📍 DEL | D...</td>\n",
       "      <td>73962.0</td>\n",
       "      <td>633.0</td>\n",
       "      <td>Digital creator</td>\n",
       "      <td>555.0</td>\n",
       "    </tr>\n",
       "    <tr>\n",
       "      <th>1</th>\n",
       "      <td>https://www.instagram.com/wongi95</td>\n",
       "      <td>wongi95</td>\n",
       "      <td>Issy Wong</td>\n",
       "      <td>Cricketer | Tailender\\n@dscfearlessuk 🏏YNWA🔴\\n...</td>\n",
       "      <td>116581.0</td>\n",
       "      <td>820.0</td>\n",
       "      <td>None,Athlete</td>\n",
       "      <td>248.0</td>\n",
       "    </tr>\n",
       "    <tr>\n",
       "      <th>2</th>\n",
       "      <td>https://www.instagram.com/aneezv</td>\n",
       "      <td>aneezv</td>\n",
       "      <td>Mohammed Aneez</td>\n",
       "      <td>Minimalist. Storyteller. Photographer.\\nUAE 🔁 ...</td>\n",
       "      <td>84956.0</td>\n",
       "      <td>1913.0</td>\n",
       "      <td>None,Photographer</td>\n",
       "      <td>1166.0</td>\n",
       "    </tr>\n",
       "    <tr>\n",
       "      <th>3</th>\n",
       "      <td>https://www.instagram.com/__vastrakarp11__</td>\n",
       "      <td>__vastrakarp11__</td>\n",
       "      <td>Pooja Vastrakar</td>\n",
       "      <td>90s kid 🎵🧿🐼\\n@fairplaysports_in</td>\n",
       "      <td>90691.0</td>\n",
       "      <td>563.0</td>\n",
       "      <td>Athlete</td>\n",
       "      <td>108.0</td>\n",
       "    </tr>\n",
       "    <tr>\n",
       "      <th>4</th>\n",
       "      <td>https://www.instagram.com/scorpionexo</td>\n",
       "      <td>scorpionexo</td>\n",
       "      <td>ScorpionEXO (North America)</td>\n",
       "      <td>Manufacturing Premium Motorcycle Helmets Since...</td>\n",
       "      <td>65207.0</td>\n",
       "      <td>218.0</td>\n",
       "      <td>None,Digital creator</td>\n",
       "      <td>2868.0</td>\n",
       "    </tr>\n",
       "  </tbody>\n",
       "</table>\n",
       "</div>"
      ],
      "text/plain": [
       "                                     inputUrl          username  \\\n",
       "0     https://www.instagram.com/basicallymenz     basicallymenz   \n",
       "1           https://www.instagram.com/wongi95           wongi95   \n",
       "2            https://www.instagram.com/aneezv            aneezv   \n",
       "3  https://www.instagram.com/__vastrakarp11__  __vastrakarp11__   \n",
       "4       https://www.instagram.com/scorpionexo       scorpionexo   \n",
       "\n",
       "                      fullName  \\\n",
       "0                  Sandeep Rai   \n",
       "1                    Issy Wong   \n",
       "2               Mohammed Aneez   \n",
       "3              Pooja Vastrakar   \n",
       "4  ScorpionEXO (North America)   \n",
       "\n",
       "                                           biography  followersCount  \\\n",
       "0  •Lawyer •Lifestyle •Luxury •Fashion\\n📍 DEL | D...         73962.0   \n",
       "1  Cricketer | Tailender\\n@dscfearlessuk 🏏YNWA🔴\\n...        116581.0   \n",
       "2  Minimalist. Storyteller. Photographer.\\nUAE 🔁 ...         84956.0   \n",
       "3                    90s kid 🎵🧿🐼\\n@fairplaysports_in         90691.0   \n",
       "4  Manufacturing Premium Motorcycle Helmets Since...         65207.0   \n",
       "\n",
       "   followsCount  businessCategoryName  postsCount  \n",
       "0         633.0       Digital creator       555.0  \n",
       "1         820.0          None,Athlete       248.0  \n",
       "2        1913.0     None,Photographer      1166.0  \n",
       "3         563.0               Athlete       108.0  \n",
       "4         218.0  None,Digital creator      2868.0  "
      ]
     },
     "execution_count": 5,
     "metadata": {},
     "output_type": "execute_result"
    }
   ],
   "source": [
    "df.head()"
   ]
  },
  {
   "cell_type": "code",
   "execution_count": 6,
   "metadata": {},
   "outputs": [],
   "source": [
    "df['follower/post'] = ''"
   ]
  },
  {
   "cell_type": "code",
   "execution_count": 7,
   "metadata": {},
   "outputs": [
    {
     "data": {
      "text/plain": [
       "followersCount\n",
       "95357.0    4\n",
       "6610.0     3\n",
       "5764.0     3\n",
       "8075.0     3\n",
       "6877.0     3\n",
       "          ..\n",
       "8577.0     1\n",
       "8337.0     1\n",
       "8541.0     1\n",
       "8555.0     1\n",
       "11053.0    1\n",
       "Name: count, Length: 3651, dtype: int64"
      ]
     },
     "execution_count": 7,
     "metadata": {},
     "output_type": "execute_result"
    }
   ],
   "source": [
    "df['followersCount'].value_counts(0)"
   ]
  },
  {
   "cell_type": "code",
   "execution_count": 8,
   "metadata": {},
   "outputs": [],
   "source": [
    "for index, row in df.iterrows():\n",
    "    if row['postsCount'] == 0.0:\n",
    "        df.loc[index, 'follower/post'] = 0\n",
    "    else:\n",
    "        df.loc[index, 'follower/post'] = row['followersCount'] / row['postsCount']"
   ]
  },
  {
   "cell_type": "code",
   "execution_count": 9,
   "metadata": {},
   "outputs": [
    {
     "data": {
      "text/html": [
       "<div>\n",
       "<style scoped>\n",
       "    .dataframe tbody tr th:only-of-type {\n",
       "        vertical-align: middle;\n",
       "    }\n",
       "\n",
       "    .dataframe tbody tr th {\n",
       "        vertical-align: top;\n",
       "    }\n",
       "\n",
       "    .dataframe thead th {\n",
       "        text-align: right;\n",
       "    }\n",
       "</style>\n",
       "<table border=\"1\" class=\"dataframe\">\n",
       "  <thead>\n",
       "    <tr style=\"text-align: right;\">\n",
       "      <th></th>\n",
       "      <th>inputUrl</th>\n",
       "      <th>username</th>\n",
       "      <th>fullName</th>\n",
       "      <th>biography</th>\n",
       "      <th>followersCount</th>\n",
       "      <th>followsCount</th>\n",
       "      <th>businessCategoryName</th>\n",
       "      <th>postsCount</th>\n",
       "      <th>follower/post</th>\n",
       "    </tr>\n",
       "  </thead>\n",
       "  <tbody>\n",
       "    <tr>\n",
       "      <th>0</th>\n",
       "      <td>https://www.instagram.com/basicallymenz</td>\n",
       "      <td>basicallymenz</td>\n",
       "      <td>Sandeep Rai</td>\n",
       "      <td>•Lawyer •Lifestyle •Luxury •Fashion\\n📍 DEL | D...</td>\n",
       "      <td>73962.0</td>\n",
       "      <td>633.0</td>\n",
       "      <td>Digital creator</td>\n",
       "      <td>555.0</td>\n",
       "      <td>133.264865</td>\n",
       "    </tr>\n",
       "    <tr>\n",
       "      <th>1</th>\n",
       "      <td>https://www.instagram.com/wongi95</td>\n",
       "      <td>wongi95</td>\n",
       "      <td>Issy Wong</td>\n",
       "      <td>Cricketer | Tailender\\n@dscfearlessuk 🏏YNWA🔴\\n...</td>\n",
       "      <td>116581.0</td>\n",
       "      <td>820.0</td>\n",
       "      <td>None,Athlete</td>\n",
       "      <td>248.0</td>\n",
       "      <td>470.084677</td>\n",
       "    </tr>\n",
       "    <tr>\n",
       "      <th>2</th>\n",
       "      <td>https://www.instagram.com/aneezv</td>\n",
       "      <td>aneezv</td>\n",
       "      <td>Mohammed Aneez</td>\n",
       "      <td>Minimalist. Storyteller. Photographer.\\nUAE 🔁 ...</td>\n",
       "      <td>84956.0</td>\n",
       "      <td>1913.0</td>\n",
       "      <td>None,Photographer</td>\n",
       "      <td>1166.0</td>\n",
       "      <td>72.861063</td>\n",
       "    </tr>\n",
       "    <tr>\n",
       "      <th>3</th>\n",
       "      <td>https://www.instagram.com/__vastrakarp11__</td>\n",
       "      <td>__vastrakarp11__</td>\n",
       "      <td>Pooja Vastrakar</td>\n",
       "      <td>90s kid 🎵🧿🐼\\n@fairplaysports_in</td>\n",
       "      <td>90691.0</td>\n",
       "      <td>563.0</td>\n",
       "      <td>Athlete</td>\n",
       "      <td>108.0</td>\n",
       "      <td>839.731481</td>\n",
       "    </tr>\n",
       "    <tr>\n",
       "      <th>4</th>\n",
       "      <td>https://www.instagram.com/scorpionexo</td>\n",
       "      <td>scorpionexo</td>\n",
       "      <td>ScorpionEXO (North America)</td>\n",
       "      <td>Manufacturing Premium Motorcycle Helmets Since...</td>\n",
       "      <td>65207.0</td>\n",
       "      <td>218.0</td>\n",
       "      <td>None,Digital creator</td>\n",
       "      <td>2868.0</td>\n",
       "      <td>22.736053</td>\n",
       "    </tr>\n",
       "  </tbody>\n",
       "</table>\n",
       "</div>"
      ],
      "text/plain": [
       "                                     inputUrl          username  \\\n",
       "0     https://www.instagram.com/basicallymenz     basicallymenz   \n",
       "1           https://www.instagram.com/wongi95           wongi95   \n",
       "2            https://www.instagram.com/aneezv            aneezv   \n",
       "3  https://www.instagram.com/__vastrakarp11__  __vastrakarp11__   \n",
       "4       https://www.instagram.com/scorpionexo       scorpionexo   \n",
       "\n",
       "                      fullName  \\\n",
       "0                  Sandeep Rai   \n",
       "1                    Issy Wong   \n",
       "2               Mohammed Aneez   \n",
       "3              Pooja Vastrakar   \n",
       "4  ScorpionEXO (North America)   \n",
       "\n",
       "                                           biography  followersCount  \\\n",
       "0  •Lawyer •Lifestyle •Luxury •Fashion\\n📍 DEL | D...         73962.0   \n",
       "1  Cricketer | Tailender\\n@dscfearlessuk 🏏YNWA🔴\\n...        116581.0   \n",
       "2  Minimalist. Storyteller. Photographer.\\nUAE 🔁 ...         84956.0   \n",
       "3                    90s kid 🎵🧿🐼\\n@fairplaysports_in         90691.0   \n",
       "4  Manufacturing Premium Motorcycle Helmets Since...         65207.0   \n",
       "\n",
       "   followsCount  businessCategoryName  postsCount follower/post  \n",
       "0         633.0       Digital creator       555.0    133.264865  \n",
       "1         820.0          None,Athlete       248.0    470.084677  \n",
       "2        1913.0     None,Photographer      1166.0     72.861063  \n",
       "3         563.0               Athlete       108.0    839.731481  \n",
       "4         218.0  None,Digital creator      2868.0     22.736053  "
      ]
     },
     "execution_count": 9,
     "metadata": {},
     "output_type": "execute_result"
    }
   ],
   "source": [
    "df.head()"
   ]
  },
  {
   "cell_type": "code",
   "execution_count": 10,
   "metadata": {},
   "outputs": [],
   "source": [
    "df.to_excel('Influencer_bio_analysis_data.xlsx', index=False)"
   ]
  },
  {
   "cell_type": "code",
   "execution_count": 11,
   "metadata": {},
   "outputs": [],
   "source": [
    "new_df = pd.read_excel(r\"D:\\Study\\Project\\Major project\\Quadrant Analysis\\All_quadrants_microinf_combined.xlsx\")"
   ]
  },
  {
   "cell_type": "code",
   "execution_count": 12,
   "metadata": {},
   "outputs": [
    {
     "data": {
      "text/html": [
       "<div>\n",
       "<style scoped>\n",
       "    .dataframe tbody tr th:only-of-type {\n",
       "        vertical-align: middle;\n",
       "    }\n",
       "\n",
       "    .dataframe tbody tr th {\n",
       "        vertical-align: top;\n",
       "    }\n",
       "\n",
       "    .dataframe thead th {\n",
       "        text-align: right;\n",
       "    }\n",
       "</style>\n",
       "<table border=\"1\" class=\"dataframe\">\n",
       "  <thead>\n",
       "    <tr style=\"text-align: right;\">\n",
       "      <th></th>\n",
       "      <th>Category</th>\n",
       "      <th>Quadrant</th>\n",
       "      <th>Influencers</th>\n",
       "    </tr>\n",
       "  </thead>\n",
       "  <tbody>\n",
       "    <tr>\n",
       "      <th>0</th>\n",
       "      <td>Automobile</td>\n",
       "      <td>HF-HE</td>\n",
       "      <td>hkmatthews50</td>\n",
       "    </tr>\n",
       "    <tr>\n",
       "      <th>1</th>\n",
       "      <td>Automobile</td>\n",
       "      <td>HF-HE</td>\n",
       "      <td>dhillon_balbir</td>\n",
       "    </tr>\n",
       "    <tr>\n",
       "      <th>2</th>\n",
       "      <td>Automobile</td>\n",
       "      <td>HF-HE</td>\n",
       "      <td>wongi95</td>\n",
       "    </tr>\n",
       "    <tr>\n",
       "      <th>3</th>\n",
       "      <td>Automobile</td>\n",
       "      <td>HF-HE</td>\n",
       "      <td>aneezv</td>\n",
       "    </tr>\n",
       "    <tr>\n",
       "      <th>4</th>\n",
       "      <td>Automobile</td>\n",
       "      <td>HF-HE</td>\n",
       "      <td>__vastrakarp11__</td>\n",
       "    </tr>\n",
       "  </tbody>\n",
       "</table>\n",
       "</div>"
      ],
      "text/plain": [
       "     Category Quadrant       Influencers\n",
       "0  Automobile    HF-HE      hkmatthews50\n",
       "1  Automobile    HF-HE    dhillon_balbir\n",
       "2  Automobile    HF-HE           wongi95\n",
       "3  Automobile    HF-HE            aneezv\n",
       "4  Automobile    HF-HE  __vastrakarp11__"
      ]
     },
     "execution_count": 12,
     "metadata": {},
     "output_type": "execute_result"
    }
   ],
   "source": [
    "new_df.head()"
   ]
  },
  {
   "cell_type": "code",
   "execution_count": 13,
   "metadata": {},
   "outputs": [
    {
     "name": "stdout",
     "output_type": "stream",
     "text": [
      "     Category Quadrant       Influencers follower/post\n",
      "0  Automobile    HF-HE      hkmatthews50    513.389163\n",
      "1  Automobile    HF-HE    dhillon_balbir     289.92145\n",
      "2  Automobile    HF-HE           wongi95    470.084677\n",
      "3  Automobile    HF-HE            aneezv     72.861063\n",
      "4  Automobile    HF-HE  __vastrakarp11__    839.731481\n"
     ]
    }
   ],
   "source": [
    "if 'username' in df.columns and 'Influencers' in new_df.columns:\n",
    "    merged_df = new_df.merge(df[['username', 'follower/post']], left_on='Influencers', right_on='username', how='left')\n",
    "    merged_df = merged_df.drop(columns=['username'])\n",
    "    new_df = merged_df\n",
    "    print(new_df.head())\n",
    "else:\n",
    "    print(\"Required columns are missing in the DataFrames.\")"
   ]
  },
  {
   "cell_type": "code",
   "execution_count": 14,
   "metadata": {},
   "outputs": [],
   "source": [
    "new_df.to_excel('inf_with_follower-post_ratio.xlsx', index=False)"
   ]
  },
  {
   "cell_type": "code",
   "execution_count": 15,
   "metadata": {},
   "outputs": [
    {
     "data": {
      "image/png": "[encoded data removed]",
      "text/plain": [
       "<Figure size 1400x800 with 1 Axes>"
      ]
     },
     "metadata": {},
     "output_type": "display_data"
    }
   ],
   "source": [
    "import pandas as pd\n",
    "import matplotlib.pyplot as plt\n",
    "\n",
    "# Assuming new_df contains the relevant data\n",
    "# First, ensure that 'follower/post' is numeric\n",
    "new_df['follower/post'] = pd.to_numeric(new_df['follower/post'], errors='coerce')\n",
    "\n",
    "# Calculate the average follower/post for each quadrant within each category\n",
    "average_df = new_df.groupby(['Category', 'Quadrant'])['follower/post'].mean().reset_index()\n",
    "\n",
    "# Pivot the dataframe for better plotting\n",
    "pivot_df = average_df.pivot(index='Category', columns='Quadrant', values='follower/post')\n",
    "\n",
    "# Plotting\n",
    "pivot_df.plot(kind='bar', figsize=(14, 8))\n",
    "plt.title('Average follower/post across Quadrants and Categories')\n",
    "plt.ylabel('Average follower/post')\n",
    "plt.xlabel('Category')\n",
    "plt.xticks(rotation=45)\n",
    "plt.legend(title='Quadrant')\n",
    "plt.tight_layout()\n",
    "plt.show()\n"
   ]
  },
  {
   "cell_type": "code",
   "execution_count": 16,
   "metadata": {},
   "outputs": [
    {
     "name": "stdout",
     "output_type": "stream",
     "text": [
      "Image separation completed.\n"
     ]
    }
   ],
   "source": [
    "import os\n",
    "import shutil\n",
    "import pandas as pd\n",
    "\n",
    "# Define paths\n",
    "excel_path = 'D://Study//Project//Major project//Bio analysis//inf_with_follower-post_ratio.xlsx'\n",
    "image_folder = 'D://Study//Project//Major project//Bio analysis//inf_image'\n",
    "output_folder = 'D://Study//Project//Major project//Bio analysis//four_quad_image'\n",
    "\n",
    "# Read influencer names from Excel file\n",
    "df = pd.read_excel(excel_path)\n",
    "\n",
    "# Get list of influencer names\n",
    "influencers = df['Influencers'].tolist()\n",
    "\n",
    "# Ensure the output folder exists\n",
    "os.makedirs(output_folder, exist_ok=True)\n",
    "\n",
    "# Iterate through the image folder and move matched images\n",
    "for img_file in os.listdir(image_folder):\n",
    "    img_name, img_ext = os.path.splitext(img_file)\n",
    "    if img_name in influencers:\n",
    "        shutil.move(os.path.join(image_folder, img_file), os.path.join(output_folder, img_file))\n",
    "        print(f\"Moved: {img_file}\")\n",
    "\n",
    "print(\"Image separation completed.\")\n"
   ]
  },
  {
   "cell_type": "code",
   "execution_count": null,
   "metadata": {},
   "outputs": [],
   "source": []
  }
 ],
 "metadata": {
  "kernelspec": {
   "display_name": "Python 3",
   "language": "python",
   "name": "python3"
  },
  "language_info": {
   "codemirror_mode": {
    "name": "ipython",
    "version": 3
   },
   "file_extension": ".py",
   "mimetype": "text/x-python",
   "name": "python",
   "nbconvert_exporter": "python",
   "pygments_lexer": "ipython3",
   "version": "3.12.1"
  }
 },
 "nbformat": 4,
 "nbformat_minor": 2
}
